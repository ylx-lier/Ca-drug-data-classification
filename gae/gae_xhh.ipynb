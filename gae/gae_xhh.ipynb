{
 "cells": [
  {
   "cell_type": "code",
   "execution_count": 11,
   "metadata": {},
   "outputs": [],
   "source": [
    "import pandas as pd\n",
    "import torch\n",
    "import os\n",
    "import torch.nn.functional as F\n",
    "from torch_geometric.nn import GCNConv, global_mean_pool\n",
    "from torch_geometric.data import Data, DataLoader\n",
    "import matplotlib.pyplot as plt\n",
    "import random\n"
   ]
  },
  {
   "cell_type": "markdown",
   "metadata": {},
   "source": [
    "## dataloader"
   ]
  },
  {
   "cell_type": "code",
   "execution_count": 12,
   "metadata": {},
   "outputs": [],
   "source": [
    "def resize_tensor(input_tensor, target_length):\n",
    "    input_tensor = input_tensor.unsqueeze(1) \n",
    "    resized_tensor = F.interpolate(\n",
    "        input_tensor, \n",
    "        size=target_length, \n",
    "        mode='linear', \n",
    "        align_corners=False\n",
    "    )\n",
    "    resized_tensor = resized_tensor.squeeze(1)\n",
    "    \n",
    "    return resized_tensor\n"
   ]
  },
  {
   "cell_type": "code",
   "execution_count": 13,
   "metadata": {},
   "outputs": [],
   "source": [
    "## labels: day45 baseline 0, day 45 others 1, day90 baseline 2, day others 90 3, day 120 baseline 4, day 120 others 5\n",
    "import pandas as pd\n",
    "import torch\n",
    "import os\n",
    "\n",
    "## labels: day45 baseline 0, day 45 others 1, day90 baseline 2, day others 90 3, day 120 baseline 4, day 120 others 5\n",
    "file_folder = \"/home/featurize/work/xhh/MEA/data/overfitting\"\n",
    "sub_file_list = os.listdir(file_folder)\n",
    "all_data = []\n",
    "for classes in sub_file_list:\n",
    "    class_path = os.path.join(file_folder, classes)\n",
    "    graph_list = os.listdir(class_path)\n",
    "    for file_name in graph_list:    \n",
    "        file_path = os.path.join(class_path, file_name)\n",
    "        data_sample = {}\n",
    "        label = int(classes)\n",
    "        df = pd.read_csv(file_path)\n",
    "        data_np = df.values\n",
    "        data_tensor = torch.tensor(data_np, dtype=torch.float32)\n",
    "        target_length = 4500 \n",
    "        data_tensor = resize_tensor(data_tensor, target_length)\n",
    "        data_sample[\"data\"] = data_tensor\n",
    "        data_sample[\"label\"] = label\n",
    "        data_sample[\"data_name\"] = file_name\n",
    "        all_data.append(data_sample)\n"
   ]
  },
  {
   "cell_type": "code",
   "execution_count": 14,
   "metadata": {},
   "outputs": [
    {
     "name": "stderr",
     "output_type": "stream",
     "text": [
      "/environment/miniconda3/lib/python3.11/site-packages/torch_geometric/deprecation.py:26: UserWarning: 'data.DataLoader' is deprecated, use 'loader.DataLoader' instead\n",
      "  warnings.warn(out)\n"
     ]
    }
   ],
   "source": [
    "train_loader = DataLoader(all_data, batch_size=1, shuffle=True)"
   ]
  },
  {
   "cell_type": "markdown",
   "metadata": {},
   "source": [
    "# Model"
   ]
  },
  {
   "cell_type": "code",
   "execution_count": 15,
   "metadata": {},
   "outputs": [],
   "source": [
    "class Encoder(torch.nn.Module):\n",
    "    def __init__(self, num_node_features, hidden_channels):\n",
    "        super().__init__()\n",
    "        self.conv1 = GCNConv(num_node_features, hidden_channels)\n",
    "        self.conv2 = GCNConv(hidden_channels, hidden_channels)\n",
    "      \n",
    "    def forward(self, x, edge_index, batch):\n",
    "        x = self.conv1(x, edge_index)\n",
    "        x = F.relu(x)\n",
    "        # x = F.dropout(x, training=self.training)\n",
    "        x = self.conv2(x, edge_index)\n",
    "        x = F.relu(x)\n",
    "        x = global_mean_pool(x, batch)\n",
    "        # x = F.dropout(x, training=self.training)\n",
    "        max_values, _ = torch.max(x, dim=0)  \n",
    "        return max_values.unsqueeze(0)"
   ]
  },
  {
   "cell_type": "code",
   "execution_count": 16,
   "metadata": {},
   "outputs": [],
   "source": [
    "class Decoder(torch.nn.Module):\n",
    "    def __init__(self, num_node_features, hidden_channels):\n",
    "        super().__init__()\n",
    "        self.linear = torch.nn.Linear(hidden_channels, num_node_features)\n",
    "    def forward(self, x):\n",
    "        x = F.leaky_relu(x,0.5)\n",
    "        x = self.linear(x)\n",
    "        return x\n",
    "    "
   ]
  },
  {
   "cell_type": "code",
   "execution_count": 17,
   "metadata": {},
   "outputs": [],
   "source": [
    "class Autoencoder(torch.nn.Module):  \n",
    "    def __init__(self, num_node_features, hidden_channels):  \n",
    "        super().__init__()  \n",
    "        self.encoder = Encoder(num_node_features, hidden_channels)  \n",
    "        self.decoder = Decoder(num_node_features, hidden_channels) \n",
    "    def forward(self, x, edge_index, batch):  \n",
    "        # Encode the input  \n",
    "        encoded = self.encoder(x, edge_index, batch)  \n",
    "        decoded = self.decoder(encoded.unsqueeze(0), edge_index, batch)  \n",
    "        return encoded, decoded  \n",
    "  "
   ]
  },
  {
   "cell_type": "code",
   "execution_count": 18,
   "metadata": {},
   "outputs": [],
   "source": [
    "latent_dim = 16\n",
    "num_node_features = 4500\n",
    "hidden_channels = 256\n",
    "model = Autoencoder(num_node_features, hidden_channels) "
   ]
  },
  {
   "cell_type": "markdown",
   "metadata": {},
   "source": [
    "# Train\n"
   ]
  },
  {
   "cell_type": "code",
   "execution_count": 19,
   "metadata": {},
   "outputs": [],
   "source": [
    "num_graphs = len(all_data) \n",
    "graphs = []\n",
    "for i in range(num_graphs):\n",
    "    graph = all_data[i]\n",
    "    num_nodes = int(graph['data'].shape[0])  # 每个图的节点数目\n",
    "    node_features = graph['data']            # 节点特征矩阵\n",
    "    # 创建依次连接的边缘索引\n",
    "    edge_index = []\n",
    "    for i in range(num_nodes - 1):\n",
    "        edge_index.append([i, i+1])\n",
    "    # 转换为PyTorch张量\n",
    "    edge_index = torch.tensor(edge_index).t().contiguous()\n",
    "    # edge_index.append([i+1, i])                      # 如果图是无向的，添加反方向的边\n",
    "\n",
    "    y = torch.tensor([graph['label']], dtype=torch.long)\n",
    "    graph_data = Data(x=node_features, edge_index=edge_index, y=y)\n",
    "    graphs.append(graph_data)\n",
    "random.seed(42)\n",
    "random.shuffle(graphs)\n",
    "train_graphs = graphs \n",
    "# test_graphs = graphs[int(num_graphs*0.8):]    # 后20%作为测试集\n",
    "train_loader = DataLoader(train_graphs, batch_size=128, shuffle=True)\n",
    "# test_loader = DataLoader(test_graphs, batch_size=32, shuffle=False)"
   ]
  },
  {
   "cell_type": "code",
   "execution_count": 20,
   "metadata": {},
   "outputs": [
    {
     "name": "stderr",
     "output_type": "stream",
     "text": [
      "  0%|          | 0/100 [00:00<?, ?it/s]"
     ]
    },
    {
     "name": "stderr",
     "output_type": "stream",
     "text": [
      " 27%|██▋       | 27/100 [00:00<00:00, 140.72it/s]"
     ]
    },
    {
     "name": "stdout",
     "output_type": "stream",
     "text": [
      "Epoch 1, Loss: 7.393680095672607\n",
      "Epoch 2, Loss: 7.393679618835449\n",
      "Epoch 3, Loss: 7.393680095672607\n",
      "Epoch 4, Loss: 7.393679618835449\n",
      "Epoch 5, Loss: 7.393679618835449\n",
      "Epoch 6, Loss: 7.393679618835449\n",
      "Epoch 7, Loss: 7.393679618835449\n",
      "Epoch 8, Loss: 7.393679618835449\n",
      "Epoch 9, Loss: 7.393679141998291\n",
      "Epoch 10, Loss: 7.393680095672607\n",
      "Epoch 11, Loss: 7.393679618835449\n",
      "Epoch 12, Loss: 7.393679618835449\n",
      "Epoch 13, Loss: 7.393679618835449\n",
      "Epoch 14, Loss: 7.393679618835449\n",
      "Epoch 15, Loss: 7.393679618835449\n",
      "Epoch 16, Loss: 7.393679618835449\n",
      "Epoch 17, Loss: 7.393680095672607\n",
      "Epoch 18, Loss: 7.393679618835449\n",
      "Epoch 19, Loss: 7.393679618835449\n",
      "Epoch 20, Loss: 7.393679618835449\n",
      "Epoch 21, Loss: 7.393679618835449\n",
      "Epoch 22, Loss: 7.393679618835449\n",
      "Epoch 23, Loss: 7.393679618835449\n",
      "Epoch 24, Loss: 7.393679618835449\n",
      "Epoch 25, Loss: 7.393679618835449\n",
      "Epoch 26, Loss: 7.393679618835449\n",
      "Epoch 27, Loss: 7.393679141998291\n",
      "Epoch 28, Loss: 7.393679618835449\n",
      "Epoch 29, Loss: 7.393679618835449\n",
      "Epoch 30, Loss: 7.393679141998291\n",
      "Epoch 31, Loss: 7.393679618835449\n"
     ]
    },
    {
     "name": "stderr",
     "output_type": "stream",
     "text": [
      " 61%|██████    | 61/100 [00:00<00:00, 153.04it/s]"
     ]
    },
    {
     "name": "stdout",
     "output_type": "stream",
     "text": [
      "Epoch 32, Loss: 7.393679618835449\n",
      "Epoch 33, Loss: 7.393679618835449\n",
      "Epoch 34, Loss: 7.393679141998291\n",
      "Epoch 35, Loss: 7.393679618835449\n",
      "Epoch 36, Loss: 7.393679618835449\n",
      "Epoch 37, Loss: 7.393679618835449\n",
      "Epoch 38, Loss: 7.393679618835449\n",
      "Epoch 39, Loss: 7.393679141998291\n",
      "Epoch 40, Loss: 7.393679618835449\n",
      "Epoch 41, Loss: 7.393679618835449\n",
      "Epoch 42, Loss: 7.393680095672607\n",
      "Epoch 43, Loss: 7.393679141998291\n",
      "Epoch 44, Loss: 7.393679618835449\n",
      "Epoch 45, Loss: 7.393679618835449\n",
      "Epoch 46, Loss: 7.393679618835449\n",
      "Epoch 47, Loss: 7.393679618835449\n",
      "Epoch 48, Loss: 7.393679141998291\n",
      "Epoch 49, Loss: 7.393679618835449\n",
      "Epoch 50, Loss: 7.393679618835449\n",
      "Epoch 51, Loss: 7.393679618835449\n",
      "Epoch 52, Loss: 7.393679618835449\n",
      "Epoch 53, Loss: 7.393679618835449\n",
      "Epoch 54, Loss: 7.393680095672607\n",
      "Epoch 55, Loss: 7.393679141998291\n",
      "Epoch 56, Loss: 7.393679618835449\n",
      "Epoch 57, Loss: 7.393679618835449\n",
      "Epoch 58, Loss: 7.393679141998291\n",
      "Epoch 59, Loss: 7.393680095672607\n",
      "Epoch 60, Loss: 7.393679141998291\n",
      "Epoch 61, Loss: 7.393679618835449\n",
      "Epoch 62, Loss: 7.393679618835449\n"
     ]
    },
    {
     "name": "stderr",
     "output_type": "stream",
     "text": [
      "100%|██████████| 100/100 [00:00<00:00, 157.24it/s]"
     ]
    },
    {
     "name": "stdout",
     "output_type": "stream",
     "text": [
      "Epoch 63, Loss: 7.393679618835449\n",
      "Epoch 64, Loss: 7.393679618835449\n",
      "Epoch 65, Loss: 7.393679618835449\n",
      "Epoch 66, Loss: 7.393679618835449\n",
      "Epoch 67, Loss: 7.393679618835449\n",
      "Epoch 68, Loss: 7.393679618835449\n",
      "Epoch 69, Loss: 7.393679618835449\n",
      "Epoch 70, Loss: 7.393679618835449\n",
      "Epoch 71, Loss: 7.393679618835449\n",
      "Epoch 72, Loss: 7.393680095672607\n",
      "Epoch 73, Loss: 7.393679141998291\n",
      "Epoch 74, Loss: 7.393679618835449\n",
      "Epoch 75, Loss: 7.393679618835449\n",
      "Epoch 76, Loss: 7.393679618835449\n",
      "Epoch 77, Loss: 7.393679618835449\n",
      "Epoch 78, Loss: 7.393679141998291\n",
      "Epoch 79, Loss: 7.393679618835449\n",
      "Epoch 80, Loss: 7.393679618835449\n",
      "Epoch 81, Loss: 7.393679618835449\n",
      "Epoch 82, Loss: 7.393679618835449\n",
      "Epoch 83, Loss: 7.393679618835449\n",
      "Epoch 84, Loss: 7.393679618835449\n",
      "Epoch 85, Loss: 7.393679618835449\n",
      "Epoch 86, Loss: 7.393680095672607\n",
      "Epoch 87, Loss: 7.393680095672607\n",
      "Epoch 88, Loss: 7.393679618835449\n",
      "Epoch 89, Loss: 7.393679618835449\n",
      "Epoch 90, Loss: 7.393679618835449\n",
      "Epoch 91, Loss: 7.393679618835449\n",
      "Epoch 92, Loss: 7.393679618835449\n",
      "Epoch 93, Loss: 7.393679618835449\n",
      "Epoch 94, Loss: 7.393679618835449\n",
      "Epoch 95, Loss: 7.393679141998291\n",
      "Epoch 96, Loss: 7.393679618835449\n",
      "Epoch 97, Loss: 7.393679618835449\n",
      "Epoch 98, Loss: 7.393679618835449\n",
      "Epoch 99, Loss: 7.393679618835449\n",
      "Epoch 100, Loss: 7.393679618835449\n"
     ]
    },
    {
     "name": "stderr",
     "output_type": "stream",
     "text": [
      "\n"
     ]
    }
   ],
   "source": [
    "from tqdm import tqdm\n",
    "epoch = 100   \n",
    "lerning_rate = 0.001\n",
    "device = torch.device('cuda' if torch.cuda.is_available() else 'cpu')\n",
    "model = model.to(device)\n",
    "encoder = Encoder(num_node_features, hidden_channels).to(device)\n",
    "decoder = Decoder(num_node_features, hidden_channels).to(device)\n",
    "optimizer = torch.optim.Adam(model.parameters(), lr=lerning_rate, capturable=True)\n",
    "scheduler = torch.optim.lr_scheduler.CosineAnnealingLR(optimizer, T_max=epoch, eta_min=0.000001)\n",
    "mse_loss = torch.nn.MSELoss() \n",
    "loss_values = []\n",
    "for epoch in tqdm(range(epoch)):\n",
    "    total_loss = 0\n",
    "    for data in train_loader:\n",
    "        data = data.to(device)\n",
    "        encode= encoder(data.x, data.edge_index, data.batch)\n",
    "        encode_copy = encode.repeat(data.x.shape[0], 1) \n",
    "        decode = decoder(encode_copy)\n",
    "        loss = mse_loss(decode, data.x)\n",
    "        loss.backward()\n",
    "        optimizer.step()\n",
    "        total_loss += loss.item()\n",
    "    scheduler.step()\n",
    "    avg_loss = total_loss / len(train_loader)\n",
    "    loss_values.append(avg_loss)\n",
    "    print(f'Epoch {epoch+1}, Loss: {avg_loss}')"
   ]
  }
 ],
 "metadata": {
  "kernelspec": {
   "display_name": "base",
   "language": "python",
   "name": "python3"
  },
  "language_info": {
   "codemirror_mode": {
    "name": "ipython",
    "version": 3
   },
   "file_extension": ".py",
   "mimetype": "text/x-python",
   "name": "python",
   "nbconvert_exporter": "python",
   "pygments_lexer": "ipython3",
   "version": "3.11.8"
  }
 },
 "nbformat": 4,
 "nbformat_minor": 2
}
