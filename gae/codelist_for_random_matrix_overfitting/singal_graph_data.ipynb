{
 "cells": [
  {
   "cell_type": "code",
   "execution_count": 2,
   "metadata": {},
   "outputs": [
    {
     "name": "stdout",
     "output_type": "stream",
     "text": [
      "Looking in indexes: https://pypi.tuna.tsinghua.edu.cn/simple\n",
      "Requirement already satisfied: torch_geometric in /environment/miniconda3/lib/python3.11/site-packages (2.6.1)\n",
      "Requirement already satisfied: aiohttp in /environment/miniconda3/lib/python3.11/site-packages (from torch_geometric) (3.7.4)\n",
      "Requirement already satisfied: fsspec in /environment/miniconda3/lib/python3.11/site-packages (from torch_geometric) (2024.3.1)\n",
      "Requirement already satisfied: jinja2 in /environment/miniconda3/lib/python3.11/site-packages (from torch_geometric) (3.1.3)\n",
      "Requirement already satisfied: numpy in /environment/miniconda3/lib/python3.11/site-packages (from torch_geometric) (1.26.4)\n",
      "Requirement already satisfied: psutil>=5.8.0 in /environment/miniconda3/lib/python3.11/site-packages (from torch_geometric) (5.9.8)\n",
      "Requirement already satisfied: pyparsing in /environment/miniconda3/lib/python3.11/site-packages (from torch_geometric) (3.1.2)\n",
      "Requirement already satisfied: requests in /environment/miniconda3/lib/python3.11/site-packages (from torch_geometric) (2.31.0)\n",
      "Requirement already satisfied: tqdm in /environment/miniconda3/lib/python3.11/site-packages (from torch_geometric) (4.65.0)\n",
      "Requirement already satisfied: attrs>=17.3.0 in /environment/miniconda3/lib/python3.11/site-packages (from aiohttp->torch_geometric) (23.2.0)\n",
      "Requirement already satisfied: chardet<4.0,>=2.0 in /environment/miniconda3/lib/python3.11/site-packages (from aiohttp->torch_geometric) (3.0.4)\n",
      "Requirement already satisfied: multidict<7.0,>=4.5 in /environment/miniconda3/lib/python3.11/site-packages (from aiohttp->torch_geometric) (6.0.5)\n",
      "Requirement already satisfied: async-timeout<4.0,>=3.0 in /environment/miniconda3/lib/python3.11/site-packages (from aiohttp->torch_geometric) (3.0.1)\n",
      "Requirement already satisfied: yarl<2.0,>=1.0 in /environment/miniconda3/lib/python3.11/site-packages (from aiohttp->torch_geometric) (1.9.4)\n",
      "Requirement already satisfied: typing-extensions>=3.6.5 in /environment/miniconda3/lib/python3.11/site-packages (from aiohttp->torch_geometric) (4.11.0)\n",
      "Requirement already satisfied: MarkupSafe>=2.0 in /environment/miniconda3/lib/python3.11/site-packages (from jinja2->torch_geometric) (2.1.5)\n",
      "Requirement already satisfied: charset-normalizer<4,>=2 in /environment/miniconda3/lib/python3.11/site-packages (from requests->torch_geometric) (2.0.4)\n",
      "Requirement already satisfied: idna<4,>=2.5 in /environment/miniconda3/lib/python3.11/site-packages (from requests->torch_geometric) (3.4)\n",
      "Requirement already satisfied: urllib3<3,>=1.21.1 in /environment/miniconda3/lib/python3.11/site-packages (from requests->torch_geometric) (2.1.0)\n",
      "Requirement already satisfied: certifi>=2017.4.17 in /environment/miniconda3/lib/python3.11/site-packages (from requests->torch_geometric) (2024.2.2)\n",
      "Note: you may need to restart the kernel to use updated packages.\n"
     ]
    }
   ],
   "source": [
    "pip install torch_geometric"
   ]
  },
  {
   "cell_type": "code",
   "execution_count": 3,
   "metadata": {},
   "outputs": [],
   "source": [
    "import torch\n",
    "import torch.nn.functional as F\n",
    "from torch_geometric.nn import GCNConv, global_mean_pool\n",
    "from torch_geometric.data import Data\n",
    "import matplotlib.pyplot as plt\n",
    "from tqdm import tqdm #直接导入行不通，因为没有这个类，torch本身做了很多工作以方便使用"
   ]
  },
  {
   "cell_type": "code",
   "execution_count": 4,
   "metadata": {},
   "outputs": [],
   "source": [
    "import pandas as pd\n",
    "import torch\n",
    "import os\n",
    "\n",
    "graph = \"/home/featurize/work/ylx/MEA/overfitting/220918_0911_05_F53H9_ACM_GABA_3_spike.csv\"\n",
    "df = pd.read_csv(graph)\n",
    "data_np = df.values\n",
    "node_features = torch.tensor(data_np, dtype=torch.float)\n",
    "\n",
    "\n"
   ]
  },
  {
   "cell_type": "code",
   "execution_count": 5,
   "metadata": {},
   "outputs": [],
   "source": [
    "def subsample(node_features, target_row, target_col):\n",
    "    original_rows, original_cols = node_features.shape\n",
    "    row_step = original_rows / target_row\n",
    "    col_step = original_cols / target_col\n",
    "    sampled_row = [int(i*row_step) for i in range(target_row)]\n",
    "    sampled_col = [int(i*col_step) for i in range(target_col)]\n",
    "    sampled_matrix = node_features[sampled_row, :][:, sampled_col]\n",
    "    return sampled_matrix\n",
    "    "
   ]
  },
  {
   "cell_type": "code",
   "execution_count": 6,
   "metadata": {},
   "outputs": [
    {
     "name": "stderr",
     "output_type": "stream",
     "text": [
      "  0%|          | 20/100000 [00:00<21:43, 76.72it/s] "
     ]
    },
    {
     "name": "stdout",
     "output_type": "stream",
     "text": [
      "0.04768802225589752\n",
      "Epoch: 0, Loss: 0.010008213110268116\n"
     ]
    },
    {
     "name": "stderr",
     "output_type": "stream",
     "text": [
      "  1%|          | 1033/100000 [00:06<10:19, 159.76it/s]"
     ]
    },
    {
     "name": "stdout",
     "output_type": "stream",
     "text": [
      "0.0168702881783247\n",
      "Epoch: 1000, Loss: 0.0047078984789550304\n"
     ]
    },
    {
     "name": "stderr",
     "output_type": "stream",
     "text": [
      "  2%|▏         | 2021/100000 [00:12<10:15, 159.31it/s]"
     ]
    },
    {
     "name": "stdout",
     "output_type": "stream",
     "text": [
      "0.026150178164243698\n",
      "Epoch: 2000, Loss: 0.004674278199672699\n"
     ]
    },
    {
     "name": "stderr",
     "output_type": "stream",
     "text": [
      "  3%|▎         | 3020/100000 [00:18<09:19, 173.31it/s]"
     ]
    },
    {
     "name": "stdout",
     "output_type": "stream",
     "text": [
      "0.029592067003250122\n",
      "Epoch: 3000, Loss: 0.004610555246472359\n"
     ]
    },
    {
     "name": "stderr",
     "output_type": "stream",
     "text": [
      "  4%|▍         | 4036/100000 [00:24<09:00, 177.45it/s]"
     ]
    },
    {
     "name": "stdout",
     "output_type": "stream",
     "text": [
      "0.04616285115480423\n",
      "Epoch: 4000, Loss: 0.004567516967654228\n"
     ]
    },
    {
     "name": "stderr",
     "output_type": "stream",
     "text": [
      "  5%|▌         | 5032/100000 [00:29<08:51, 178.56it/s]"
     ]
    },
    {
     "name": "stdout",
     "output_type": "stream",
     "text": [
      "0.01881427690386772\n",
      "Epoch: 5000, Loss: 0.004703198559582233\n"
     ]
    },
    {
     "name": "stderr",
     "output_type": "stream",
     "text": [
      "  6%|▌         | 6028/100000 [00:35<09:16, 169.01it/s]"
     ]
    },
    {
     "name": "stdout",
     "output_type": "stream",
     "text": [
      "0.02115345001220703\n",
      "Epoch: 6000, Loss: 0.004690623842179775\n"
     ]
    },
    {
     "name": "stderr",
     "output_type": "stream",
     "text": [
      "  7%|▋         | 7018/100000 [00:41<09:24, 164.60it/s]"
     ]
    },
    {
     "name": "stdout",
     "output_type": "stream",
     "text": [
      "0.024434708058834076\n",
      "Epoch: 7000, Loss: 0.0046738008968532085\n"
     ]
    },
    {
     "name": "stderr",
     "output_type": "stream",
     "text": [
      "  8%|▊         | 8019/100000 [00:47<10:08, 151.20it/s]"
     ]
    },
    {
     "name": "stdout",
     "output_type": "stream",
     "text": [
      "0.026855656877160072\n",
      "Epoch: 8000, Loss: 0.004663126077502966\n"
     ]
    },
    {
     "name": "stderr",
     "output_type": "stream",
     "text": [
      "  9%|▉         | 9032/100000 [00:54<08:31, 177.69it/s]"
     ]
    },
    {
     "name": "stdout",
     "output_type": "stream",
     "text": [
      "0.030993472784757614\n",
      "Epoch: 9000, Loss: 0.0046577840112149715\n"
     ]
    },
    {
     "name": "stderr",
     "output_type": "stream",
     "text": [
      " 10%|█         | 10036/100000 [00:59<07:49, 191.66it/s]"
     ]
    },
    {
     "name": "stdout",
     "output_type": "stream",
     "text": [
      "0.03204187750816345\n",
      "Epoch: 10000, Loss: 0.004637731239199638\n"
     ]
    },
    {
     "name": "stderr",
     "output_type": "stream",
     "text": [
      " 11%|█         | 11022/100000 [01:05<08:40, 171.04it/s]"
     ]
    },
    {
     "name": "stdout",
     "output_type": "stream",
     "text": [
      "0.033702053129673004\n",
      "Epoch: 11000, Loss: 0.004622629843652248\n"
     ]
    },
    {
     "name": "stderr",
     "output_type": "stream",
     "text": [
      " 12%|█▏        | 12038/100000 [01:11<07:45, 188.89it/s]"
     ]
    },
    {
     "name": "stdout",
     "output_type": "stream",
     "text": [
      "0.03685183823108673\n",
      "Epoch: 12000, Loss: 0.00461832107976079\n"
     ]
    },
    {
     "name": "stderr",
     "output_type": "stream",
     "text": [
      " 13%|█▎        | 13030/100000 [01:16<07:48, 185.50it/s]"
     ]
    },
    {
     "name": "stdout",
     "output_type": "stream",
     "text": [
      "0.0370786190032959\n",
      "Epoch: 13000, Loss: 0.004602641798555851\n"
     ]
    },
    {
     "name": "stderr",
     "output_type": "stream",
     "text": [
      " 14%|█▍        | 14025/100000 [01:22<07:38, 187.65it/s]"
     ]
    },
    {
     "name": "stdout",
     "output_type": "stream",
     "text": [
      "0.03963330760598183\n",
      "Epoch: 14000, Loss: 0.004593345336616039\n"
     ]
    },
    {
     "name": "stderr",
     "output_type": "stream",
     "text": [
      " 15%|█▌        | 15023/100000 [01:27<07:20, 192.77it/s]"
     ]
    },
    {
     "name": "stdout",
     "output_type": "stream",
     "text": [
      "0.0420064851641655\n",
      "Epoch: 15000, Loss: 0.004583735950291157\n"
     ]
    },
    {
     "name": "stderr",
     "output_type": "stream",
     "text": [
      " 16%|█▌        | 16022/100000 [01:32<07:15, 192.66it/s]"
     ]
    },
    {
     "name": "stdout",
     "output_type": "stream",
     "text": [
      "0.043128080666065216\n",
      "Epoch: 16000, Loss: 0.0045776464976370335\n"
     ]
    },
    {
     "name": "stderr",
     "output_type": "stream",
     "text": [
      " 17%|█▋        | 17020/100000 [01:37<07:13, 191.40it/s]"
     ]
    },
    {
     "name": "stdout",
     "output_type": "stream",
     "text": [
      "0.04449968785047531\n",
      "Epoch: 17000, Loss: 0.004572698846459389\n"
     ]
    },
    {
     "name": "stderr",
     "output_type": "stream",
     "text": [
      " 18%|█▊        | 18024/100000 [01:43<08:32, 159.84it/s]"
     ]
    },
    {
     "name": "stdout",
     "output_type": "stream",
     "text": [
      "0.045405808836221695\n",
      "Epoch: 18000, Loss: 0.004568495787680149\n"
     ]
    },
    {
     "name": "stderr",
     "output_type": "stream",
     "text": [
      " 19%|█▉        | 19021/100000 [01:49<08:27, 159.58it/s]"
     ]
    },
    {
     "name": "stdout",
     "output_type": "stream",
     "text": [
      "0.04562324285507202\n",
      "Epoch: 19000, Loss: 0.004565478302538395\n"
     ]
    },
    {
     "name": "stderr",
     "output_type": "stream",
     "text": [
      " 20%|██        | 20025/100000 [01:55<07:32, 176.88it/s]"
     ]
    },
    {
     "name": "stdout",
     "output_type": "stream",
     "text": [
      "0.04689228534698486\n",
      "Epoch: 20000, Loss: 0.004561687353998423\n"
     ]
    },
    {
     "name": "stderr",
     "output_type": "stream",
     "text": [
      " 21%|██        | 21020/100000 [02:01<07:24, 177.62it/s]"
     ]
    },
    {
     "name": "stdout",
     "output_type": "stream",
     "text": [
      "0.04689813032746315\n",
      "Epoch: 21000, Loss: 0.004559115506708622\n"
     ]
    },
    {
     "name": "stderr",
     "output_type": "stream",
     "text": [
      " 22%|██▏       | 22019/100000 [02:07<07:23, 175.66it/s]"
     ]
    },
    {
     "name": "stdout",
     "output_type": "stream",
     "text": [
      "0.04957888275384903\n",
      "Epoch: 22000, Loss: 0.004555540159344673\n"
     ]
    },
    {
     "name": "stderr",
     "output_type": "stream",
     "text": [
      " 23%|██▎       | 23026/100000 [02:12<07:01, 182.68it/s]"
     ]
    },
    {
     "name": "stdout",
     "output_type": "stream",
     "text": [
      "0.049845293164253235\n",
      "Epoch: 23000, Loss: 0.004553015809506178\n"
     ]
    },
    {
     "name": "stderr",
     "output_type": "stream",
     "text": [
      " 24%|██▍       | 24009/100000 [02:18<07:59, 158.57it/s]"
     ]
    },
    {
     "name": "stdout",
     "output_type": "stream",
     "text": [
      "0.04999265447258949\n",
      "Epoch: 24000, Loss: 0.004550275392830372\n"
     ]
    },
    {
     "name": "stderr",
     "output_type": "stream",
     "text": [
      " 25%|██▌       | 25018/100000 [02:24<07:37, 163.83it/s]"
     ]
    },
    {
     "name": "stdout",
     "output_type": "stream",
     "text": [
      "0.05102816969156265\n",
      "Epoch: 25000, Loss: 0.004546325653791428\n"
     ]
    },
    {
     "name": "stderr",
     "output_type": "stream",
     "text": [
      " 26%|██▌       | 26026/100000 [02:30<06:24, 192.46it/s]"
     ]
    },
    {
     "name": "stdout",
     "output_type": "stream",
     "text": [
      "0.047588445246219635\n",
      "Epoch: 26000, Loss: 0.0045586503110826015\n"
     ]
    },
    {
     "name": "stderr",
     "output_type": "stream",
     "text": [
      " 27%|██▋       | 27024/100000 [02:36<06:14, 194.74it/s]"
     ]
    },
    {
     "name": "stdout",
     "output_type": "stream",
     "text": [
      "0.05008753389120102\n",
      "Epoch: 27000, Loss: 0.004555902909487486\n"
     ]
    },
    {
     "name": "stderr",
     "output_type": "stream",
     "text": [
      " 28%|██▊       | 28036/100000 [02:41<07:04, 169.44it/s]"
     ]
    },
    {
     "name": "stdout",
     "output_type": "stream",
     "text": [
      "0.04223056137561798\n",
      "Epoch: 28000, Loss: 0.004623672924935818\n"
     ]
    },
    {
     "name": "stderr",
     "output_type": "stream",
     "text": [
      " 29%|██▉       | 29034/100000 [02:47<06:57, 169.83it/s]"
     ]
    },
    {
     "name": "stdout",
     "output_type": "stream",
     "text": [
      "0.052002761512994766\n",
      "Epoch: 29000, Loss: 0.004543922375887632\n"
     ]
    },
    {
     "name": "stderr",
     "output_type": "stream",
     "text": [
      " 30%|███       | 30029/100000 [02:53<06:28, 180.30it/s]"
     ]
    },
    {
     "name": "stdout",
     "output_type": "stream",
     "text": [
      "0.05247370898723602\n",
      "Epoch: 30000, Loss: 0.004540590103715658\n"
     ]
    },
    {
     "name": "stderr",
     "output_type": "stream",
     "text": [
      " 31%|███       | 31027/100000 [02:58<06:29, 177.02it/s]"
     ]
    },
    {
     "name": "stdout",
     "output_type": "stream",
     "text": [
      "0.05272704362869263\n",
      "Epoch: 31000, Loss: 0.004537440370768309\n"
     ]
    },
    {
     "name": "stderr",
     "output_type": "stream",
     "text": [
      " 32%|███▏      | 32022/100000 [03:04<05:58, 189.85it/s]"
     ]
    },
    {
     "name": "stdout",
     "output_type": "stream",
     "text": [
      "0.045461930334568024\n",
      "Epoch: 32000, Loss: 0.004554273094981909\n"
     ]
    },
    {
     "name": "stderr",
     "output_type": "stream",
     "text": [
      " 33%|███▎      | 33022/100000 [03:10<06:38, 168.26it/s]"
     ]
    },
    {
     "name": "stdout",
     "output_type": "stream",
     "text": [
      "0.0536632165312767\n",
      "Epoch: 33000, Loss: 0.0045298258773982525\n"
     ]
    },
    {
     "name": "stderr",
     "output_type": "stream",
     "text": [
      " 34%|███▍      | 34031/100000 [03:16<06:41, 164.12it/s]"
     ]
    },
    {
     "name": "stdout",
     "output_type": "stream",
     "text": [
      "0.05406569689512253\n",
      "Epoch: 34000, Loss: 0.004526474047452211\n"
     ]
    },
    {
     "name": "stderr",
     "output_type": "stream",
     "text": [
      " 35%|███▌      | 35020/100000 [03:22<06:02, 179.16it/s]"
     ]
    },
    {
     "name": "stdout",
     "output_type": "stream",
     "text": [
      "0.05492376163601875\n",
      "Epoch: 35000, Loss: 0.0045227669179439545\n"
     ]
    },
    {
     "name": "stderr",
     "output_type": "stream",
     "text": [
      " 36%|███▌      | 36033/100000 [03:28<06:03, 176.18it/s]"
     ]
    },
    {
     "name": "stdout",
     "output_type": "stream",
     "text": [
      "0.055463023483753204\n",
      "Epoch: 36000, Loss: 0.004519163630902767\n"
     ]
    },
    {
     "name": "stderr",
     "output_type": "stream",
     "text": [
      " 37%|███▋      | 37024/100000 [03:33<06:02, 173.77it/s]"
     ]
    },
    {
     "name": "stdout",
     "output_type": "stream",
     "text": [
      "0.0522378534078598\n",
      "Epoch: 37000, Loss: 0.004555318970233202\n"
     ]
    },
    {
     "name": "stderr",
     "output_type": "stream",
     "text": [
      " 38%|███▊      | 38024/100000 [03:39<05:38, 182.94it/s]"
     ]
    },
    {
     "name": "stdout",
     "output_type": "stream",
     "text": [
      "0.04960300028324127\n",
      "Epoch: 38000, Loss: 0.004523070994764566\n"
     ]
    },
    {
     "name": "stderr",
     "output_type": "stream",
     "text": [
      " 39%|███▉      | 39021/100000 [03:44<05:21, 189.82it/s]"
     ]
    },
    {
     "name": "stdout",
     "output_type": "stream",
     "text": [
      "0.04994902387261391\n",
      "Epoch: 39000, Loss: 0.004519459791481495\n"
     ]
    },
    {
     "name": "stderr",
     "output_type": "stream",
     "text": [
      " 40%|████      | 40025/100000 [03:50<05:18, 188.44it/s]"
     ]
    },
    {
     "name": "stdout",
     "output_type": "stream",
     "text": [
      "0.057125888764858246\n",
      "Epoch: 40000, Loss: 0.004509789869189262\n"
     ]
    },
    {
     "name": "stderr",
     "output_type": "stream",
     "text": [
      " 41%|████      | 41025/100000 [03:55<05:04, 193.55it/s]"
     ]
    },
    {
     "name": "stdout",
     "output_type": "stream",
     "text": [
      "0.055385246872901917\n",
      "Epoch: 41000, Loss: 0.004535806365311146\n"
     ]
    },
    {
     "name": "stderr",
     "output_type": "stream",
     "text": [
      " 42%|████▏     | 42024/100000 [04:00<05:20, 180.70it/s]"
     ]
    },
    {
     "name": "stdout",
     "output_type": "stream",
     "text": [
      "0.05887305736541748\n",
      "Epoch: 42000, Loss: 0.004508151672780514\n"
     ]
    },
    {
     "name": "stderr",
     "output_type": "stream",
     "text": [
      " 43%|████▎     | 43014/100000 [04:06<06:27, 147.24it/s]"
     ]
    },
    {
     "name": "stdout",
     "output_type": "stream",
     "text": [
      "0.05829928070306778\n",
      "Epoch: 43000, Loss: 0.004498426802456379\n"
     ]
    },
    {
     "name": "stderr",
     "output_type": "stream",
     "text": [
      " 44%|████▍     | 44026/100000 [04:12<05:42, 163.38it/s]"
     ]
    },
    {
     "name": "stdout",
     "output_type": "stream",
     "text": [
      "0.055533718317747116\n",
      "Epoch: 44000, Loss: 0.004496052395552397\n"
     ]
    },
    {
     "name": "stderr",
     "output_type": "stream",
     "text": [
      " 45%|████▌     | 45024/100000 [04:18<04:58, 184.03it/s]"
     ]
    },
    {
     "name": "stdout",
     "output_type": "stream",
     "text": [
      "0.06072324886918068\n",
      "Epoch: 45000, Loss: 0.004491868894547224\n"
     ]
    },
    {
     "name": "stderr",
     "output_type": "stream",
     "text": [
      " 46%|████▌     | 46019/100000 [04:24<04:55, 182.40it/s]"
     ]
    },
    {
     "name": "stdout",
     "output_type": "stream",
     "text": [
      "0.06072722375392914\n",
      "Epoch: 46000, Loss: 0.004494540859013796\n"
     ]
    },
    {
     "name": "stderr",
     "output_type": "stream",
     "text": [
      " 47%|████▋     | 47036/100000 [04:29<04:37, 191.04it/s]"
     ]
    },
    {
     "name": "stdout",
     "output_type": "stream",
     "text": [
      "0.05769047886133194\n",
      "Epoch: 47000, Loss: 0.004490806721150875\n"
     ]
    },
    {
     "name": "stderr",
     "output_type": "stream",
     "text": [
      " 48%|████▊     | 48031/100000 [04:35<04:32, 190.85it/s]"
     ]
    },
    {
     "name": "stdout",
     "output_type": "stream",
     "text": [
      "0.0609298013150692\n",
      "Epoch: 48000, Loss: 0.0044859922491014\n"
     ]
    },
    {
     "name": "stderr",
     "output_type": "stream",
     "text": [
      " 49%|████▉     | 49027/100000 [04:40<04:24, 192.42it/s]"
     ]
    },
    {
     "name": "stdout",
     "output_type": "stream",
     "text": [
      "0.06253884732723236\n",
      "Epoch: 49000, Loss: 0.00448531424626708\n"
     ]
    },
    {
     "name": "stderr",
     "output_type": "stream",
     "text": [
      " 50%|█████     | 50025/100000 [04:45<04:18, 193.31it/s]"
     ]
    },
    {
     "name": "stdout",
     "output_type": "stream",
     "text": [
      "0.06240483745932579\n",
      "Epoch: 50000, Loss: 0.004480951465666294\n"
     ]
    },
    {
     "name": "stderr",
     "output_type": "stream",
     "text": [
      " 51%|█████     | 51023/100000 [04:50<04:25, 184.41it/s]"
     ]
    },
    {
     "name": "stdout",
     "output_type": "stream",
     "text": [
      "0.061725880950689316\n",
      "Epoch: 51000, Loss: 0.004478557500988245\n"
     ]
    },
    {
     "name": "stderr",
     "output_type": "stream",
     "text": [
      " 52%|█████▏    | 52029/100000 [04:56<04:13, 189.30it/s]"
     ]
    },
    {
     "name": "stdout",
     "output_type": "stream",
     "text": [
      "0.06364378333091736\n",
      "Epoch: 52000, Loss: 0.004476604517549276\n"
     ]
    },
    {
     "name": "stderr",
     "output_type": "stream",
     "text": [
      " 53%|█████▎    | 53023/100000 [05:01<04:20, 180.47it/s]"
     ]
    },
    {
     "name": "stdout",
     "output_type": "stream",
     "text": [
      "0.06328003108501434\n",
      "Epoch: 53000, Loss: 0.004474653396755457\n"
     ]
    },
    {
     "name": "stderr",
     "output_type": "stream",
     "text": [
      " 54%|█████▍    | 54028/100000 [05:07<04:24, 173.58it/s]"
     ]
    },
    {
     "name": "stdout",
     "output_type": "stream",
     "text": [
      "0.06369079649448395\n",
      "Epoch: 54000, Loss: 0.004473034292459488\n"
     ]
    },
    {
     "name": "stderr",
     "output_type": "stream",
     "text": [
      " 55%|█████▌    | 55028/100000 [05:13<04:02, 185.70it/s]"
     ]
    },
    {
     "name": "stdout",
     "output_type": "stream",
     "text": [
      "0.06472057104110718\n",
      "Epoch: 55000, Loss: 0.00447305291891098\n"
     ]
    },
    {
     "name": "stderr",
     "output_type": "stream",
     "text": [
      " 56%|█████▌    | 56019/100000 [05:18<04:41, 156.09it/s]"
     ]
    },
    {
     "name": "stdout",
     "output_type": "stream",
     "text": [
      "0.06534472107887268\n",
      "Epoch: 56000, Loss: 0.004470376297831535\n"
     ]
    },
    {
     "name": "stderr",
     "output_type": "stream",
     "text": [
      " 57%|█████▋    | 57023/100000 [05:24<04:16, 167.82it/s]"
     ]
    },
    {
     "name": "stdout",
     "output_type": "stream",
     "text": [
      "0.06564946472644806\n",
      "Epoch: 57000, Loss: 0.004476005211472511\n"
     ]
    },
    {
     "name": "stderr",
     "output_type": "stream",
     "text": [
      " 58%|█████▊    | 58022/100000 [05:30<03:52, 180.32it/s]"
     ]
    },
    {
     "name": "stdout",
     "output_type": "stream",
     "text": [
      "0.05836915969848633\n",
      "Epoch: 58000, Loss: 0.0044751251116395\n"
     ]
    },
    {
     "name": "stderr",
     "output_type": "stream",
     "text": [
      " 59%|█████▉    | 59023/100000 [05:36<03:53, 175.59it/s]"
     ]
    },
    {
     "name": "stdout",
     "output_type": "stream",
     "text": [
      "0.0655394047498703\n",
      "Epoch: 59000, Loss: 0.0044695595279335976\n"
     ]
    },
    {
     "name": "stderr",
     "output_type": "stream",
     "text": [
      " 60%|██████    | 60036/100000 [05:42<03:38, 182.87it/s]"
     ]
    },
    {
     "name": "stdout",
     "output_type": "stream",
     "text": [
      "0.06860362738370895\n",
      "Epoch: 60000, Loss: 0.004471030086278915\n"
     ]
    },
    {
     "name": "stderr",
     "output_type": "stream",
     "text": [
      " 61%|██████    | 61036/100000 [05:47<03:24, 190.57it/s]"
     ]
    },
    {
     "name": "stdout",
     "output_type": "stream",
     "text": [
      "0.06664172559976578\n",
      "Epoch: 61000, Loss: 0.004465044941753149\n"
     ]
    },
    {
     "name": "stderr",
     "output_type": "stream",
     "text": [
      " 62%|██████▏   | 62030/100000 [05:53<03:28, 181.86it/s]"
     ]
    },
    {
     "name": "stdout",
     "output_type": "stream",
     "text": [
      "0.0675915777683258\n",
      "Epoch: 62000, Loss: 0.00446436507627368\n"
     ]
    },
    {
     "name": "stderr",
     "output_type": "stream",
     "text": [
      " 63%|██████▎   | 63034/100000 [05:58<03:24, 180.83it/s]"
     ]
    },
    {
     "name": "stdout",
     "output_type": "stream",
     "text": [
      "0.06810742616653442\n",
      "Epoch: 63000, Loss: 0.004465729463845491\n"
     ]
    },
    {
     "name": "stderr",
     "output_type": "stream",
     "text": [
      " 64%|██████▍   | 64031/100000 [06:04<03:28, 172.32it/s]"
     ]
    },
    {
     "name": "stdout",
     "output_type": "stream",
     "text": [
      "0.06705692410469055\n",
      "Epoch: 64000, Loss: 0.00447382777929306\n"
     ]
    },
    {
     "name": "stderr",
     "output_type": "stream",
     "text": [
      " 65%|██████▌   | 65028/100000 [06:10<03:28, 167.62it/s]"
     ]
    },
    {
     "name": "stdout",
     "output_type": "stream",
     "text": [
      "0.06848546862602234\n",
      "Epoch: 65000, Loss: 0.0044640060514211655\n"
     ]
    },
    {
     "name": "stderr",
     "output_type": "stream",
     "text": [
      " 66%|██████▌   | 66025/100000 [06:16<03:27, 163.41it/s]"
     ]
    },
    {
     "name": "stdout",
     "output_type": "stream",
     "text": [
      "0.0685742199420929\n",
      "Epoch: 66000, Loss: 0.004461313597857952\n"
     ]
    },
    {
     "name": "stderr",
     "output_type": "stream",
     "text": [
      " 67%|██████▋   | 67030/100000 [06:21<02:49, 194.34it/s]"
     ]
    },
    {
     "name": "stdout",
     "output_type": "stream",
     "text": [
      "0.06811551004648209\n",
      "Epoch: 67000, Loss: 0.004459810443222523\n"
     ]
    },
    {
     "name": "stderr",
     "output_type": "stream",
     "text": [
      " 68%|██████▊   | 68024/100000 [06:27<02:56, 181.27it/s]"
     ]
    },
    {
     "name": "stdout",
     "output_type": "stream",
     "text": [
      "0.06886664777994156\n",
      "Epoch: 68000, Loss: 0.0044606346637010574\n"
     ]
    },
    {
     "name": "stderr",
     "output_type": "stream",
     "text": [
      " 69%|██████▉   | 69030/100000 [06:32<02:49, 182.31it/s]"
     ]
    },
    {
     "name": "stdout",
     "output_type": "stream",
     "text": [
      "0.06866957247257233\n",
      "Epoch: 69000, Loss: 0.004469629842787981\n"
     ]
    },
    {
     "name": "stderr",
     "output_type": "stream",
     "text": [
      " 70%|███████   | 70028/100000 [06:38<02:56, 169.52it/s]"
     ]
    },
    {
     "name": "stdout",
     "output_type": "stream",
     "text": [
      "0.07087261974811554\n",
      "Epoch: 70000, Loss: 0.0044735088013112545\n"
     ]
    },
    {
     "name": "stderr",
     "output_type": "stream",
     "text": [
      " 71%|███████   | 71024/100000 [06:44<02:46, 173.89it/s]"
     ]
    },
    {
     "name": "stdout",
     "output_type": "stream",
     "text": [
      "0.07113151252269745\n",
      "Epoch: 71000, Loss: 0.004461409989744425\n"
     ]
    },
    {
     "name": "stderr",
     "output_type": "stream",
     "text": [
      " 72%|███████▏  | 72037/100000 [06:50<02:36, 178.17it/s]"
     ]
    },
    {
     "name": "stdout",
     "output_type": "stream",
     "text": [
      "0.0698491558432579\n",
      "Epoch: 72000, Loss: 0.0044616456143558025\n"
     ]
    },
    {
     "name": "stderr",
     "output_type": "stream",
     "text": [
      " 73%|███████▎  | 73021/100000 [06:55<02:27, 182.93it/s]"
     ]
    },
    {
     "name": "stdout",
     "output_type": "stream",
     "text": [
      "0.07138850539922714\n",
      "Epoch: 73000, Loss: 0.004456899128854275\n"
     ]
    },
    {
     "name": "stderr",
     "output_type": "stream",
     "text": [
      " 74%|███████▍  | 74021/100000 [07:01<02:19, 186.36it/s]"
     ]
    },
    {
     "name": "stdout",
     "output_type": "stream",
     "text": [
      "0.07129289209842682\n",
      "Epoch: 74000, Loss: 0.004459916613996029\n"
     ]
    },
    {
     "name": "stderr",
     "output_type": "stream",
     "text": [
      " 75%|███████▌  | 75024/100000 [07:06<02:09, 192.60it/s]"
     ]
    },
    {
     "name": "stdout",
     "output_type": "stream",
     "text": [
      "0.07060099393129349\n",
      "Epoch: 75000, Loss: 0.004461349919438362\n"
     ]
    },
    {
     "name": "stderr",
     "output_type": "stream",
     "text": [
      " 76%|███████▌  | 76021/100000 [07:11<02:05, 191.19it/s]"
     ]
    },
    {
     "name": "stdout",
     "output_type": "stream",
     "text": [
      "0.07087372243404388\n",
      "Epoch: 76000, Loss: 0.004452751018106937\n"
     ]
    },
    {
     "name": "stderr",
     "output_type": "stream",
     "text": [
      " 77%|███████▋  | 77040/100000 [07:17<01:57, 195.62it/s]"
     ]
    },
    {
     "name": "stdout",
     "output_type": "stream",
     "text": [
      "0.07090668380260468\n",
      "Epoch: 77000, Loss: 0.004453884903341532\n"
     ]
    },
    {
     "name": "stderr",
     "output_type": "stream",
     "text": [
      " 78%|███████▊  | 78039/100000 [07:22<01:53, 192.89it/s]"
     ]
    },
    {
     "name": "stdout",
     "output_type": "stream",
     "text": [
      "0.07472822815179825\n",
      "Epoch: 78000, Loss: 0.004467089660465717\n"
     ]
    },
    {
     "name": "stderr",
     "output_type": "stream",
     "text": [
      " 79%|███████▉  | 79024/100000 [07:27<01:47, 194.26it/s]"
     ]
    },
    {
     "name": "stdout",
     "output_type": "stream",
     "text": [
      "0.07438644021749496\n",
      "Epoch: 79000, Loss: 0.004572190809994936\n"
     ]
    },
    {
     "name": "stderr",
     "output_type": "stream",
     "text": [
      " 80%|████████  | 80023/100000 [07:32<01:42, 194.89it/s]"
     ]
    },
    {
     "name": "stdout",
     "output_type": "stream",
     "text": [
      "0.07092562317848206\n",
      "Epoch: 80000, Loss: 0.004457543138414621\n"
     ]
    },
    {
     "name": "stderr",
     "output_type": "stream",
     "text": [
      " 81%|████████  | 81022/100000 [07:38<01:36, 196.11it/s]"
     ]
    },
    {
     "name": "stdout",
     "output_type": "stream",
     "text": [
      "0.07220693677663803\n",
      "Epoch: 81000, Loss: 0.004447725601494312\n"
     ]
    },
    {
     "name": "stderr",
     "output_type": "stream",
     "text": [
      " 82%|████████▏ | 82021/100000 [07:43<01:46, 168.55it/s]"
     ]
    },
    {
     "name": "stdout",
     "output_type": "stream",
     "text": [
      "0.0732264518737793\n",
      "Epoch: 82000, Loss: 0.004450547508895397\n"
     ]
    },
    {
     "name": "stderr",
     "output_type": "stream",
     "text": [
      " 83%|████████▎ | 83030/100000 [07:49<01:37, 173.38it/s]"
     ]
    },
    {
     "name": "stdout",
     "output_type": "stream",
     "text": [
      "0.07312488555908203\n",
      "Epoch: 83000, Loss: 0.004449203610420227\n"
     ]
    },
    {
     "name": "stderr",
     "output_type": "stream",
     "text": [
      " 84%|████████▍ | 84038/100000 [07:54<01:20, 197.36it/s]"
     ]
    },
    {
     "name": "stdout",
     "output_type": "stream",
     "text": [
      "0.07280846685171127\n",
      "Epoch: 84000, Loss: 0.004443480633199215\n"
     ]
    },
    {
     "name": "stderr",
     "output_type": "stream",
     "text": [
      " 85%|████████▌ | 85039/100000 [07:59<01:16, 194.64it/s]"
     ]
    },
    {
     "name": "stdout",
     "output_type": "stream",
     "text": [
      "0.07267695665359497\n",
      "Epoch: 85000, Loss: 0.00444662943482399\n"
     ]
    },
    {
     "name": "stderr",
     "output_type": "stream",
     "text": [
      " 86%|████████▌ | 86039/100000 [08:05<01:12, 193.63it/s]"
     ]
    },
    {
     "name": "stdout",
     "output_type": "stream",
     "text": [
      "0.07324723899364471\n",
      "Epoch: 86000, Loss: 0.004445332568138838\n"
     ]
    },
    {
     "name": "stderr",
     "output_type": "stream",
     "text": [
      " 87%|████████▋ | 87038/100000 [08:10<01:07, 192.42it/s]"
     ]
    },
    {
     "name": "stdout",
     "output_type": "stream",
     "text": [
      "0.0698629841208458\n",
      "Epoch: 87000, Loss: 0.004459940362721682\n"
     ]
    },
    {
     "name": "stderr",
     "output_type": "stream",
     "text": [
      " 88%|████████▊ | 88024/100000 [08:16<01:07, 176.76it/s]"
     ]
    },
    {
     "name": "stdout",
     "output_type": "stream",
     "text": [
      "0.07391908764839172\n",
      "Epoch: 88000, Loss: 0.0044387890957295895\n"
     ]
    },
    {
     "name": "stderr",
     "output_type": "stream",
     "text": [
      " 89%|████████▉ | 89039/100000 [08:22<00:56, 192.70it/s]"
     ]
    },
    {
     "name": "stdout",
     "output_type": "stream",
     "text": [
      "0.07633686065673828\n",
      "Epoch: 89000, Loss: 0.0044471463188529015\n"
     ]
    },
    {
     "name": "stderr",
     "output_type": "stream",
     "text": [
      " 90%|█████████ | 90038/100000 [08:27<00:51, 193.50it/s]"
     ]
    },
    {
     "name": "stdout",
     "output_type": "stream",
     "text": [
      "0.07413599640130997\n",
      "Epoch: 90000, Loss: 0.004442719276994467\n"
     ]
    },
    {
     "name": "stderr",
     "output_type": "stream",
     "text": [
      " 91%|█████████ | 91036/100000 [08:32<00:46, 191.35it/s]"
     ]
    },
    {
     "name": "stdout",
     "output_type": "stream",
     "text": [
      "0.07459267973899841\n",
      "Epoch: 91000, Loss: 0.004434052389115095\n"
     ]
    },
    {
     "name": "stderr",
     "output_type": "stream",
     "text": [
      " 92%|█████████▏| 92032/100000 [08:37<00:44, 177.61it/s]"
     ]
    },
    {
     "name": "stdout",
     "output_type": "stream",
     "text": [
      "0.07395274937152863\n",
      "Epoch: 92000, Loss: 0.004436141811311245\n"
     ]
    },
    {
     "name": "stderr",
     "output_type": "stream",
     "text": [
      " 93%|█████████▎| 93036/100000 [08:43<00:35, 194.73it/s]"
     ]
    },
    {
     "name": "stdout",
     "output_type": "stream",
     "text": [
      "0.07529639452695847\n",
      "Epoch: 93000, Loss: 0.004432498477399349\n"
     ]
    },
    {
     "name": "stderr",
     "output_type": "stream",
     "text": [
      " 94%|█████████▍| 94035/100000 [08:48<00:30, 193.20it/s]"
     ]
    },
    {
     "name": "stdout",
     "output_type": "stream",
     "text": [
      "0.07541710138320923\n",
      "Epoch: 94000, Loss: 0.004430920351296663\n"
     ]
    },
    {
     "name": "stderr",
     "output_type": "stream",
     "text": [
      " 95%|█████████▌| 95018/100000 [08:54<00:32, 152.74it/s]"
     ]
    },
    {
     "name": "stdout",
     "output_type": "stream",
     "text": [
      "0.07517824321985245\n",
      "Epoch: 95000, Loss: 0.004431290086358786\n"
     ]
    },
    {
     "name": "stderr",
     "output_type": "stream",
     "text": [
      " 96%|█████████▌| 96022/100000 [09:00<00:22, 173.54it/s]"
     ]
    },
    {
     "name": "stdout",
     "output_type": "stream",
     "text": [
      "0.07658467441797256\n",
      "Epoch: 96000, Loss: 0.004429361317306757\n"
     ]
    },
    {
     "name": "stderr",
     "output_type": "stream",
     "text": [
      " 97%|█████████▋| 97040/100000 [09:05<00:15, 194.73it/s]"
     ]
    },
    {
     "name": "stdout",
     "output_type": "stream",
     "text": [
      "0.07695382088422775\n",
      "Epoch: 97000, Loss: 0.0044800094328820705\n"
     ]
    },
    {
     "name": "stderr",
     "output_type": "stream",
     "text": [
      " 98%|█████████▊| 98031/100000 [09:11<00:10, 182.61it/s]"
     ]
    },
    {
     "name": "stdout",
     "output_type": "stream",
     "text": [
      "0.07644520699977875\n",
      "Epoch: 98000, Loss: 0.004428739659488201\n"
     ]
    },
    {
     "name": "stderr",
     "output_type": "stream",
     "text": [
      " 99%|█████████▉| 99028/100000 [09:16<00:05, 179.79it/s]"
     ]
    },
    {
     "name": "stdout",
     "output_type": "stream",
     "text": [
      "0.07661247998476028\n",
      "Epoch: 99000, Loss: 0.00442452123388648\n"
     ]
    },
    {
     "name": "stderr",
     "output_type": "stream",
     "text": [
      "100%|██████████| 100000/100000 [09:21<00:00, 178.02it/s]\n"
     ]
    },
    {
     "data": {
      "image/png": "[encoded data removed]",
      "text/plain": [
       "<Figure size 1000x500 with 1 Axes>"
      ]
     },
     "metadata": {},
     "output_type": "display_data"
    },
    {
     "name": "stdout",
     "output_type": "stream",
     "text": [
      "The final loss: 0.004439550451934338\n",
      "num_nodes: 100\n",
      "num_node_features: 200\n"
     ]
    }
   ],
   "source": [
    "class Encoder(torch.nn.Module):\n",
    "    def __init__(self, num_node_features, hidden_channels):\n",
    "        super().__init__()\n",
    "        self.conv1 = GCNConv(num_node_features, hidden_channels)\n",
    "        self.conv2 = GCNConv(hidden_channels, hidden_channels)\n",
    "        self.conv3 = GCNConv(hidden_channels, hidden_channels)\n",
    "        # self.out = torch.nn.Linear(hidden_channels, hidden_channels)\n",
    "        \n",
    "    def forward(self, x, edge_index, batch):\n",
    "        x = self.conv1(x, edge_index)\n",
    "        x = F.relu(x)\n",
    "        x = self.conv2(x, edge_index)\n",
    "        x = F.relu(x)\n",
    "        x = self.conv3(x, edge_index)\n",
    "        x = F.relu(x)\n",
    "        # x = self.out(x)\n",
    "        x = global_mean_pool(x, batch)\n",
    "        return x\n",
    "\n",
    "class Decoder(torch.nn.Module):\n",
    "    def __init__(self, hidden_channels, num_node_features):\n",
    "        super().__init__()\n",
    "        self.conv1 = GCNConv(hidden_channels, hidden_channels)\n",
    "        self.conv2 = GCNConv(hidden_channels, hidden_channels)\n",
    "        self.conv3 = GCNConv(hidden_channels, num_node_features)\n",
    "        # self.out = torch.nn.Linear(num_node_features, num_node_features)\n",
    "        \n",
    "    def forward(self, x, edge_index, batch):\n",
    "        x = self.conv1(x, edge_index)\n",
    "        x = F.relu(x)\n",
    "        x = self.conv2(x, edge_index)\n",
    "        x = F.relu(x)\n",
    "        x = self.conv3(x, edge_index)\n",
    "        x = F.leaky_relu(x, 0.5)\n",
    "        # x = self.out(x)\n",
    "        return x\n",
    "\n",
    "class Autoencoder(torch.nn.Module):\n",
    "    def __init__(self, num_node_features, hidden_channels):\n",
    "        super().__init__()\n",
    "        self.encoder = Encoder(num_node_features, hidden_channels)\n",
    "        self.decoder = Decoder(hidden_channels, num_node_features)\n",
    "        \n",
    "    def forward(self, x, edge_index, batch):\n",
    "        encoded = self.encoder(x, edge_index, batch)\n",
    "        encoded = encoded.repeat(x.shape[0], 1)\n",
    "        def check(feature):\n",
    "            column_mean = feature.mean(dim=0)\n",
    "            mse = ((feature - column_mean)**2).mean(dim=0)\n",
    "            smse = mse.sum()\n",
    "            print(smse.item())\n",
    "        \n",
    "            # print(\"encoded:\", encoded)\n",
    "        decoded = self.decoder(encoded, edge_index, batch)\n",
    "        if epoch % 1000 == 0:\n",
    "            check(decoded)\n",
    "        \n",
    "            \n",
    "            \n",
    "        return decoded\n",
    "\n",
    "node_features = subsample(node_features, 100, 200) \n",
    "\n",
    "num_nodes = node_features.shape[0]\n",
    "num_node_features = node_features.shape[1]\n",
    "hidden_channels = 1024\n",
    "\n",
    "# node_features = torch.randn(num_nodes, num_node_features)\n",
    "minmax = lambda x: (x-x.min())/(x.max()-x.min())\n",
    "node_features = minmax(node_features)   \n",
    "\n",
    "edge_index = []\n",
    "for i in range(num_nodes):\n",
    "    for j in range(num_nodes):\n",
    "        if i<j:\n",
    "            edge_index.append([i,j])\n",
    "edge_index = torch.tensor(edge_index).t().contiguous()\n",
    "data = Data(x=node_features, edge_index = edge_index)\n",
    "\n",
    "model = Autoencoder(num_node_features=num_node_features, hidden_channels=hidden_channels)\n",
    "optimizer = torch.optim.Adam(model.parameters(), lr=1e-3)\n",
    "device = torch.device('cuda' if torch.cuda.is_available() else 'cpu')\n",
    "model = model.to(device)\n",
    "data = data.to(device)\n",
    "batch = torch.zeros(num_nodes, dtype=torch.long).to(device)\n",
    "# scheduler = torch.optim.lr_scheduler.StepLR(optimizer, step_size=100, gamma=0.5)\n",
    "\n",
    "model.train()\n",
    "\n",
    "loss_values = []\n",
    "\n",
    "for epoch in tqdm(range(100000)):\n",
    "    optimizer.zero_grad()\n",
    "    out = model(data.x, data.edge_index, batch)\n",
    "    loss = F.mse_loss(out, data.x)\n",
    "    loss.backward()\n",
    "    optimizer.step()\n",
    "    # scheduler.step()\n",
    "    loss_values.append(loss.item())\n",
    "    if epoch % 1000 == 0:\n",
    "        print(f\"Epoch: {epoch}, Loss: {loss.item()}\")\n",
    "        \n",
    "plt.figure(figsize=(10,5))\n",
    "plt.plot(loss_values, label='training Loss')\n",
    "plt.xlabel('Epoch')\n",
    "plt.ylabel('Loss')\n",
    "plt.legend()\n",
    "plt.show()\n",
    "print(\"The final loss:\", loss.item())\n",
    "model.eval()\n",
    "print(\"num_nodes:\", num_nodes)\n",
    "print(\"num_node_features:\", num_node_features)    "
   ]
  }
 ],
 "metadata": {
  "kernelspec": {
   "display_name": "base",
   "language": "python",
   "name": "python3"
  },
  "language_info": {
   "codemirror_mode": {
    "name": "ipython",
    "version": 3
   },
   "file_extension": ".py",
   "mimetype": "text/x-python",
   "name": "python",
   "nbconvert_exporter": "python",
   "pygments_lexer": "ipython3",
   "version": "3.11.8"
  }
 },
 "nbformat": 4,
 "nbformat_minor": 2
}
